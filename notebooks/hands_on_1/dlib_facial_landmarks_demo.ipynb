{
  "nbformat": 4,
  "nbformat_minor": 0,
  "metadata": {
    "kernelspec": {
      "display_name": "Python 3",
      "language": "python",
      "name": "python3"
    },
    "language_info": {
      "codemirror_mode": {
        "name": "ipython",
        "version": 3
      },
      "file_extension": ".py",
      "mimetype": "text/x-python",
      "name": "python",
      "nbconvert_exporter": "python",
      "pygments_lexer": "ipython3",
      "version": "3.7.6"
    },
    "colab": {
      "name": "dlib_facial_landmarks_demo.ipynb",
      "provenance": [],
      "collapsed_sections": [],
      "toc_visible": true
    }
  },
  "cells": [
    {
      "cell_type": "markdown",
      "metadata": {
        "id": "A00r6GxaDAKQ"
      },
      "source": [
        "# Detecting Facial Landmarks using ```dlib```\n",
        "\n",
        "+ Use 68-point facial landmark detector with ```dlib``` \n",
        "+ Use the detector to detect facial landmarks on a given image\n",
        "+ Visualize the results"
      ]
    },
    {
      "cell_type": "markdown",
      "metadata": {
        "id": "2xj1FEICDAKR"
      },
      "source": [
        "[![Open In Colab](https://colab.research.google.com/assets/colab-badge.svg)](https://colab.research.google.com/github/raghavbali/deep_fakes_tutorial/blob/main/notebooks/hands_on_1/dlib_facial_landmarks_demo.ipynb)"
      ]
    },
    {
      "cell_type": "markdown",
      "metadata": {
        "id": "yqKVUqhqDAKS"
      },
      "source": [
        "## Import Libraries"
      ]
    },
    {
      "cell_type": "code",
      "metadata": {
        "colab": {
          "base_uri": "https://localhost:8080/"
        },
        "id": "y2ENQFp8ErPR",
        "outputId": "6b150d34-07ce-442e-80af-3581e5f73ff2"
      },
      "source": [
        "!wget http://dlib.net/files/shape_predictor_68_face_landmarks.dat.bz2\n",
        "!bunzip2 \"shape_predictor_68_face_landmarks.dat.bz2\""
      ],
      "execution_count": null,
      "outputs": []
    },
    {
      "cell_type": "code",
      "metadata": {
        "id": "do5NFsUGDAKS"
      },
      "source": [
        "import cv2 \n",
        "import numpy as np \n",
        "import dlib \n",
        "from matplotlib import pyplot as plt"
      ],
      "execution_count": null,
      "outputs": []
    },
    {
      "cell_type": "markdown",
      "metadata": {
        "id": "3BxyTvx6DAKS"
      },
      "source": [
        "## Instantiate 68-Point Facial Landmark Detector"
      ]
    },
    {
      "cell_type": "code",
      "metadata": {
        "id": "ASsehl0_DAKT"
      },
      "source": [
        "detector = dlib.get_frontal_face_detector() \n",
        "predictor = dlib.shape_predictor(\"shape_predictor_68_face_landmarks.dat\")"
      ],
      "execution_count": null,
      "outputs": []
    },
    {
      "cell_type": "markdown",
      "metadata": {
        "id": "cuEQh-_6DAKT"
      },
      "source": [
        "## Load a sample image"
      ]
    },
    {
      "cell_type": "code",
      "metadata": {
        "colab": {
          "base_uri": "https://localhost:8080/",
          "height": 248
        },
        "id": "PzbDlO4MDAKT",
        "outputId": "50b5f925-27e1-4d69-f35f-54debacfc1b0"
      },
      "source": [
        "image = cv2.imread('nicolas_ref_cc.jpg')\n",
        "plt.figure(figsize = (10,10))\n",
        "plt.imshow(cv2.cvtColor(image, cv2.COLOR_BGR2RGB))\n",
        "plt.axis('off');"
      ],
      "execution_count": null,
      "outputs": []
    },
    {
      "cell_type": "markdown",
      "metadata": {
        "id": "mLzEMqzxDAKU"
      },
      "source": [
        "## Convert to Grayscale"
      ]
    },
    {
      "cell_type": "code",
      "metadata": {
        "colab": {
          "base_uri": "https://localhost:8080/",
          "height": 248
        },
        "id": "LrNOhxYJDAKU",
        "outputId": "014171d9-4993-4aca-ebf8-ff9d08abe287"
      },
      "source": [
        "gray = cv2.cvtColor(image, cv2.COLOR_BGR2GRAY) \n",
        "faces = detector(gray) \n",
        "faces # a list of faces detected"
      ],
      "execution_count": null,
      "outputs": []
    },
    {
      "cell_type": "code",
      "execution_count": null,
      "metadata": {},
      "outputs": [],
      "source": [
        "plt.figure(figsize = (10,10))\n",
        "plt.imshow(gray, cmap='gray')\n",
        "plt.axis('off');"
      ]
    },
    {
      "cell_type": "markdown",
      "metadata": {
        "id": "BzsJamJgDAKU"
      },
      "source": [
        "# Identify and Mark Coordinates for Each detected feature"
      ]
    },
    {
      "cell_type": "code",
      "metadata": {
        "id": "VTuUVLMmDAKV"
      },
      "source": [
        "# iterate for all faces in the image\n",
        "for face in faces:  \n",
        "    x1 = face.left() \n",
        "    y1 = face.top() \n",
        "    x2 = face.right() \n",
        "    y2 = face.bottom() \n",
        "\n",
        "    # get landmarks\n",
        "    landmarks = predictor(gray, face) \n",
        "\n",
        "    #iterate through all the 68 landmark points detected\n",
        "    for n in range(0, 68):  \n",
        "        x = landmarks.part(n).x \n",
        "        y = landmarks.part(n).y \n",
        "        cv2.circle(image, (x, y), 4, (0, 0, 255), -1) "
      ],
      "execution_count": null,
      "outputs": []
    },
    {
      "cell_type": "markdown",
      "metadata": {
        "id": "hnjoJiB8DAKV"
      },
      "source": [
        "## Visualize Results"
      ]
    },
    {
      "cell_type": "code",
      "metadata": {
        "colab": {
          "base_uri": "https://localhost:8080/",
          "height": 248
        },
        "id": "FcTHseiPDAKV",
        "outputId": "c87d94a7-7d40-46e1-fb61-82d41c34e55e"
      },
      "source": [
        "plt.figure(figsize = (10,10))\n",
        "plt.imshow(cv2.cvtColor(image, cv2.COLOR_BGR2RGB))\n",
        "plt.axis('off');"
      ],
      "execution_count": null,
      "outputs": []
    },
    {
      "cell_type": "code",
      "metadata": {
        "id": "SbriTC3LDAKW"
      },
      "source": [],
      "execution_count": null,
      "outputs": []
    }
  ]
}